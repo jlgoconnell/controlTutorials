{
 "cells": [
  {
   "cell_type": "markdown",
   "id": "53bd1ba5",
   "metadata": {},
   "source": [
    "# Transfer functions\n",
    "\n",
    "With a basic understanding of the Laplace transform and the frequency domeain, we can now introduce transfer functions, which will form the basis of classical control theory. Put simply, a transfer function is the ratio of the output to the input of a system, represented in the frequency domain. For example, a transfer function might be something like\n",
    "\n",
    "$$ \\frac{Y\\left(s\\right)}{X\\left(s\\right)} = \\frac{36}{s^2+6s+18} \\text{.} $$\n",
    "\n",
    "We can tell a huge amount about how a system will behave based purely on its transfer function. For example, with an undrestanding of transfer functions, we can predict the above system will be stable. In addition, it will oscillate and settle at twice the value of whatever we put into it. With experience, we can tell all of this without performing the inverse Laplace transform or solving anything. Let's test that by simulating it:\n",
    "\n",
    "## Solving for the time-domain response\n",
    "\n",
    "We'll start by completing the square on the denominator:\n",
    "\n",
    "$$ \\frac{Y\\left(s\\right)}{X\\left(s\\right)} = \\frac{12\\times 3}{\\left(s+3\\right)^2 + 3^2} \\text{.} $$\n",
    "\n",
    "Now we perform the inverse Laplace transform using the table from the previous lesson.\n",
    "\n",
    "$$ \\frac{y\\left(t\\right)}{x\\left(t\\right)} = 12e^{-3t}\\sin\\left(3t\\right) \\text{.} $$"
   ]
  },
  {
   "cell_type": "code",
   "execution_count": 1,
   "id": "c4b0714e",
   "metadata": {},
   "outputs": [
    {
     "ename": "ModuleNotFoundError",
     "evalue": "No module named 'control'",
     "output_type": "error",
     "traceback": [
      "\u001b[0;31m---------------------------------------------------------------------------\u001b[0m",
      "\u001b[0;31mModuleNotFoundError\u001b[0m                       Traceback (most recent call last)",
      "Cell \u001b[0;32mIn[1], line 3\u001b[0m\n\u001b[1;32m      1\u001b[0m \u001b[38;5;28;01mimport\u001b[39;00m \u001b[38;5;21;01mnumpy\u001b[39;00m \u001b[38;5;28;01mas\u001b[39;00m \u001b[38;5;21;01mnp\u001b[39;00m\n\u001b[1;32m      2\u001b[0m \u001b[38;5;28;01mimport\u001b[39;00m \u001b[38;5;21;01mmatplotlib\u001b[39;00m \u001b[38;5;28;01mas\u001b[39;00m \u001b[38;5;21;01mplt\u001b[39;00m\n\u001b[0;32m----> 3\u001b[0m \u001b[38;5;28;01mimport\u001b[39;00m \u001b[38;5;21;01mcontrol\u001b[39;00m\n",
      "\u001b[0;31mModuleNotFoundError\u001b[0m: No module named 'control'"
     ]
    }
   ],
   "source": [
    "import numpy as np\n",
    "import matplotlib as plt\n",
    "import control"
   ]
  },
  {
   "cell_type": "code",
   "execution_count": null,
   "id": "266bb8c1",
   "metadata": {},
   "outputs": [],
   "source": []
  }
 ],
 "metadata": {
  "kernelspec": {
   "display_name": "Python 3 (ipykernel)",
   "language": "python",
   "name": "python3"
  },
  "language_info": {
   "codemirror_mode": {
    "name": "ipython",
    "version": 3
   },
   "file_extension": ".py",
   "mimetype": "text/x-python",
   "name": "python",
   "nbconvert_exporter": "python",
   "pygments_lexer": "ipython3",
   "version": "3.10.6"
  }
 },
 "nbformat": 4,
 "nbformat_minor": 5
}
