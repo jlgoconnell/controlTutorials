{
 "cells": [
  {
   "cell_type": "markdown",
   "id": "19085bf8",
   "metadata": {},
   "source": [
    "# Transfer functions\n",
    "\n",
    "With a basic understanding of the Laplace transform and the frequency domeain, we can now introduce transfer functions, which will form the basis of classical control theory. Put simply, a transfer function is the ratio of the output to the input of a system, represented in the frequency domain. For example, a transfer function might be something like\n",
    "\n",
    "$$ \\frac{Y\\left(s\\right)}{X\\left(s\\right)} = \\frac{36}{s^2+6s+18} \\text{.} $$\n",
    "\n",
    "We can tell a huge amount about how a system will behave based purely on its transfer function. For example, with an undrestanding of transfer functions, we can predict the above system will be stable. In addition, it will oscillate and settle at twice the value of whatever we put into it. With experience, we can tell all of this without performing the inverse Laplace transform or solving anything. Let's test that by simulating it:\n",
    "\n",
    "## Solving for the time-domain response\n",
    "\n",
    "We'll start by completing the square on the denominator:\n",
    "\n",
    "$$ \\frac{Y\\left(s\\right)}{X\\left(s\\right)} = \\frac{12\\times 3}{\\left(s+3\\right)^2 + 3^2} \\text{.} $$\n",
    "\n",
    "Now we perform the inverse Laplace transform using the table from the previous lesson.\n",
    "\n",
    "$$ \\frac{y\\left(t\\right)}{x\\left(t\\right)} = 12e^{-3t}\\sin\\left(3t\\right) \\text{.} $$"
   ]
  },
  {
   "cell_type": "code",
   "execution_count": 6,
   "id": "4474ac8b",
   "metadata": {},
   "outputs": [
    {
     "name": "stdout",
     "output_type": "stream",
     "text": [
      "Defaulting to user installation because normal site-packages is not writeable\n",
      "Collecting control\n",
      "  Downloading control-0.9.3.post2-py3-none-any.whl (432 kB)\n",
      "\u001b[2K     \u001b[90m━━━━━━━━━━━━━━━━━━━━━━━━━━━━━━━━━━━━━━━\u001b[0m \u001b[32m432.8/432.8 KB\u001b[0m \u001b[31m5.1 MB/s\u001b[0m eta \u001b[36m0:00:00\u001b[0ma \u001b[36m0:00:01\u001b[0m\n",
      "\u001b[?25hRequirement already satisfied: scipy>=1.3 in /usr/lib/python3/dist-packages (from control) (1.8.0)\n",
      "Requirement already satisfied: numpy in /usr/lib/python3/dist-packages (from control) (1.21.5)\n",
      "Requirement already satisfied: matplotlib in /usr/lib/python3/dist-packages (from control) (3.5.1)\n",
      "Installing collected packages: control\n",
      "Successfully installed control-0.9.3.post2\n",
      "Note: you may need to restart the kernel to use updated packages.\n"
     ]
    }
   ],
   "source": [
    "%pip install control\n",
    "import numpy as np\n",
    "import matplotlib as plt\n",
    "import control"
   ]
  },
  {
   "cell_type": "code",
   "execution_count": null,
   "id": "1d492c20",
   "metadata": {},
   "outputs": [],
   "source": []
  }
 ],
 "metadata": {
  "kernelspec": {
   "display_name": "Python 3 (ipykernel)",
   "language": "python",
   "name": "python3"
  },
  "language_info": {
   "codemirror_mode": {
    "name": "ipython",
    "version": 3
   },
   "file_extension": ".py",
   "mimetype": "text/x-python",
   "name": "python",
   "nbconvert_exporter": "python",
   "pygments_lexer": "ipython3",
   "version": "3.10.6"
  }
 },
 "nbformat": 4,
 "nbformat_minor": 5
}
