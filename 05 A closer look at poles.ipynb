{
 "cells": [
  {
   "cell_type": "markdown",
   "id": "30a018ae",
   "metadata": {},
   "source": [
    "# A closer look at poles\n",
    "\n",
    "With a basic idea of how poles may impact a system (i.e. poles with imaginary components causing oscillation, poles with negative real parts giving stability, etc), let's look into *why* that is. We'll do this by exploring the parallels between a transfer function (in the frequency domain) and its associated differential equation (in the time domain).\n",
    "\n",
    "Let's start by considering the generalised mass-spring-damper equation:\n",
    "\n",
    "$$ m\\ddot{x}\\left(t\\right) + b\\dot{x}\\left(t\\right) + kx\\left(t\\right) = F\\left(t\\right) \\text{,} $$\n",
    "\n",
    "where $\\ddot{x}\\left(t\\right) = \\frac{\\partial^2 x}{\\partial t^2}$ and $\\dot{x}\\left(t\\right) = \\frac{\\partial x}{\\partial t}$.\n",
    "\n",
    "We'll imagine we just \"let go of the system\" and let it do its own thing without applying any external forces; that is, let $F\\left(t\\right) = 0$. Thus,\n",
    "\n",
    "$$ m\\ddot{x}\\left(t\\right) + b\\dot{x}\\left(t\\right) + kx\\left(t\\right) = 0 \\text{.} $$\n",
    "\n",
    "Let's use our old friend the Laplace transform to find the values of the poles. By performing the transform, we get\n",
    "\n",
    "$$ m\\left[s^2X\\left(s\\right) - sx\\left(0\\right) - \\dot{x}\\left(0\\right)\\right] + b\\left[sX\\left(s\\right) - x\\left(0\\right)\\right] + k\\left[X\\left(s\\right)\\right] = 0 \\text{.} $$\n",
    "\n",
    "Note the difference between $X\\left(s\\right)$ (frequency domain) and $x\\left(t\\right)$ (time domain). In this equation, we have several constant values. Let's group them up and rename them for simplicity.\n",
    "\n",
    "$$ ms^2X\\left(s\\right) + bsX\\left(s\\right) + kX\\left(s\\right) = C_1s + C_2 \\text{,} $$\n",
    "\n",
    "with $C_1 = mx\\left(0\\right)$ and $C_2 = m\\dot{x}\\left(0\\right) + bx\\left(0\\right)$."
   ]
  },
  {
   "cell_type": "code",
   "execution_count": null,
   "id": "e45ace55",
   "metadata": {},
   "outputs": [],
   "source": []
  }
 ],
 "metadata": {
  "kernelspec": {
   "display_name": "Python 3 (ipykernel)",
   "language": "python",
   "name": "python3"
  },
  "language_info": {
   "codemirror_mode": {
    "name": "ipython",
    "version": 3
   },
   "file_extension": ".py",
   "mimetype": "text/x-python",
   "name": "python",
   "nbconvert_exporter": "python",
   "pygments_lexer": "ipython3",
   "version": "3.10.6"
  }
 },
 "nbformat": 4,
 "nbformat_minor": 5
}
