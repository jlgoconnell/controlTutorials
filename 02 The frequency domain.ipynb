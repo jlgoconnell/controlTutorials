{
 "cells": [
  {
   "cell_type": "markdown",
   "id": "dcccaed4",
   "metadata": {},
   "source": [
    "# The frequency domain\n",
    "\n",
    "Last time, we explored a basic proportional controller in the time domain. While this was somewhat intuitive, the time domain can be quite restrictive in many cases. As such, we often use the frequency domain for simple controller analysis. To convert from the time domain (using $t$) to the frequency domain (using $s$), we use the Laplace transform."
   ]
  },
  {
   "cell_type": "markdown",
   "id": "753ffb94",
   "metadata": {},
   "source": [
    "## The Laplace transform\n",
    "\n",
    "The Laplace transform initially looks quite scary, but for applications in control systems we use a very basic form of it. The standard definition of the Laplace transform is\n",
    "\n",
    "$$ L\\left( f\\left(t\\right)\\right)\\left(s\\right) = \\int_0^\\infty f\\left(t\\right)e^{-st}\\ dt \\text{.} $$\n",
    "\n",
    "While this can be very difficult to calculate due to the generality of it, the applications explored in these tutorials use a very simple form:\n",
    "\n",
    "$$ L\\left( f\\left(t\\right) \\right) = F\\left(s\\right) \\text{,} $$\n",
    "\n",
    "$$ L\\left( f'\\left(t\\right) \\right) = sF\\left(s\\right) - f\\left(0^+\\right) \\text{,} $$\n",
    "\n",
    "$$ L\\left( f''\\left(t\\right) \\right) = s^2F\\left(s\\right) - sf\\left(0^+\\right) - f'\\left(0^+\\right) \\text{,} $$\n",
    "\n",
    "and, in general,\n",
    "\n",
    "$$ L\\left( f^{\\left(n\\right)} \\left(t\\right) \\right) = s^nF\\left(s\\right) - \\sum_{k=1}^n s^{n-k} f^{\\left(k-1\\right)} \\left(0^+\\right) \\text{.} $$\n",
    "\n",
    "However, we can often simplify even further! We often start systems from rest at their zero position. As such, all initial conditions (such as $f\\left(0\\right)$) can be removed from these equations. Therefore, for a system starting at rest from a zero position,\n",
    "\n",
    "$$ L\\left( f\\left(t\\right) \\right) = F\\left(s\\right) \\text{,} $$\n",
    "\n",
    "$$ L\\left( f'\\left(t\\right) \\right) = sF\\left(s\\right) \\text{,} $$\n",
    "\n",
    "$$ L\\left( f''\\left(t\\right) \\right) = s^2F\\left(s\\right) \\text{,} $$\n",
    "\n",
    "and so on."
   ]
  },
  {
   "cell_type": "markdown",
   "id": "80a083c9",
   "metadata": {},
   "source": [
    "### A short example\n",
    "\n",
    "Consider the system governed by the linear ordinary differential equation\n",
    "\n",
    "$$ y''\\left(t\\right) + 9y'\\left(t\\right) + 10y\\left(t\\right) = gx\\left(t\\right) \\text{,} $$\n",
    "\n",
    "where $g$ is a constant. We can perform the Laplace transform on this ODE. If we assume all initial conditions to be zero, we can convert into the frequency domain:\n",
    "\n",
    "$$ ms^2Y\\left(s\\right) + 9sY\\left(s\\right) + 10Y\\left(s\\right) = gX\\left(s\\right) \\text{.} $$\n",
    "\n",
    "Notice here that we have *converted from a differential equation into a polynomial in $s$*. Due to this, it's trivial to solve for $Y\\left(s\\right)$:"
   ]
  },
  {
   "cell_type": "code",
   "execution_count": null,
   "id": "0f459ff2",
   "metadata": {},
   "outputs": [],
   "source": []
  }
 ],
 "metadata": {
  "kernelspec": {
   "display_name": "Python 3 (ipykernel)",
   "language": "python",
   "name": "python3"
  },
  "language_info": {
   "codemirror_mode": {
    "name": "ipython",
    "version": 3
   },
   "file_extension": ".py",
   "mimetype": "text/x-python",
   "name": "python",
   "nbconvert_exporter": "python",
   "pygments_lexer": "ipython3",
   "version": "3.10.6"
  }
 },
 "nbformat": 4,
 "nbformat_minor": 5
}
